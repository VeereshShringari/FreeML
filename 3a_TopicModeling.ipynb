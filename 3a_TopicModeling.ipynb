{
  "nbformat": 4,
  "nbformat_minor": 0,
  "metadata": {
    "colab": {
      "name": "3a_TopicModeling",
      "provenance": [],
      "collapsed_sections": [
        "S0kNDa7gMM10",
        "EEbF37tOMfjO",
        "PVKuJM6qNCgn"
      ],
      "include_colab_link": true
    },
    "kernelspec": {
      "name": "python3",
      "display_name": "Python 3"
    }
  },
  "cells": [
    {
      "cell_type": "markdown",
      "metadata": {
        "id": "view-in-github",
        "colab_type": "text"
      },
      "source": [
        "<a href=\"https://colab.research.google.com/github/VeereshShringari/FreeML/blob/master/3a_TopicModeling.ipynb\" target=\"_parent\"><img src=\"https://colab.research.google.com/assets/colab-badge.svg\" alt=\"Open In Colab\"/></a>"
      ]
    },
    {
      "cell_type": "markdown",
      "metadata": {
        "id": "S0kNDa7gMM10",
        "colab_type": "text"
      },
      "source": [
        "### LDA Model for Topic Modeling"
      ]
    },
    {
      "cell_type": "code",
      "metadata": {
        "id": "9bm1t4EIIGmy",
        "colab_type": "code",
        "outputId": "e9370450-c9e2-4136-84d6-e18ffe6ce6e9",
        "colab": {
          "base_uri": "https://localhost:8080/",
          "height": 122
        }
      },
      "source": [
        "from google.colab import drive\n",
        "drive.mount('/content/drive')"
      ],
      "execution_count": 0,
      "outputs": [
        {
          "output_type": "stream",
          "text": [
            "Go to this URL in a browser: https://accounts.google.com/o/oauth2/auth?client_id=947318989803-6bn6qk8qdgf4n4g3pfee6491hc0brc4i.apps.googleusercontent.com&redirect_uri=urn%3aietf%3awg%3aoauth%3a2.0%3aoob&response_type=code&scope=email%20https%3a%2f%2fwww.googleapis.com%2fauth%2fdocs.test%20https%3a%2f%2fwww.googleapis.com%2fauth%2fdrive%20https%3a%2f%2fwww.googleapis.com%2fauth%2fdrive.photos.readonly%20https%3a%2f%2fwww.googleapis.com%2fauth%2fpeopleapi.readonly\n",
            "\n",
            "Enter your authorization code:\n",
            "··········\n",
            "Mounted at /content/drive\n"
          ],
          "name": "stdout"
        }
      ]
    },
    {
      "cell_type": "code",
      "metadata": {
        "id": "Kz2uPpefIPWy",
        "colab_type": "code",
        "outputId": "f109bda8-563c-4134-a1d9-f4bd768a408f",
        "colab": {
          "base_uri": "https://localhost:8080/",
          "height": 564
        }
      },
      "source": [
        "import numpy as np\n",
        "import pandas as pd\n",
        "import nltk\n",
        "import gensim\n",
        "from gensim import corpora\n",
        "\n",
        "pd.options.mode.chained_assignment = None\n",
        "\n",
        "# dataset: https://www.kaggle.com/datafiniti/hotel-reviews#Datafiniti_Hotel_Reviews.csv\n",
        "data_path = \"/content/drive/My Drive/DHS2019_Workshop/HotelReviews/\"\n",
        "df = pd.read_csv(data_path + \"Datafiniti_Hotel_Reviews.csv\")\n",
        "df.head()"
      ],
      "execution_count": 0,
      "outputs": [
        {
          "output_type": "execute_result",
          "data": {
            "text/html": [
              "<div>\n",
              "<style scoped>\n",
              "    .dataframe tbody tr th:only-of-type {\n",
              "        vertical-align: middle;\n",
              "    }\n",
              "\n",
              "    .dataframe tbody tr th {\n",
              "        vertical-align: top;\n",
              "    }\n",
              "\n",
              "    .dataframe thead th {\n",
              "        text-align: right;\n",
              "    }\n",
              "</style>\n",
              "<table border=\"1\" class=\"dataframe\">\n",
              "  <thead>\n",
              "    <tr style=\"text-align: right;\">\n",
              "      <th></th>\n",
              "      <th>id</th>\n",
              "      <th>dateAdded</th>\n",
              "      <th>dateUpdated</th>\n",
              "      <th>address</th>\n",
              "      <th>categories</th>\n",
              "      <th>primaryCategories</th>\n",
              "      <th>city</th>\n",
              "      <th>country</th>\n",
              "      <th>keys</th>\n",
              "      <th>latitude</th>\n",
              "      <th>longitude</th>\n",
              "      <th>name</th>\n",
              "      <th>postalCode</th>\n",
              "      <th>province</th>\n",
              "      <th>reviews.date</th>\n",
              "      <th>reviews.dateSeen</th>\n",
              "      <th>reviews.rating</th>\n",
              "      <th>reviews.sourceURLs</th>\n",
              "      <th>reviews.text</th>\n",
              "      <th>reviews.title</th>\n",
              "      <th>reviews.userCity</th>\n",
              "      <th>reviews.userProvince</th>\n",
              "      <th>reviews.username</th>\n",
              "      <th>sourceURLs</th>\n",
              "      <th>websites</th>\n",
              "    </tr>\n",
              "  </thead>\n",
              "  <tbody>\n",
              "    <tr>\n",
              "      <th>0</th>\n",
              "      <td>AVwc252WIN2L1WUfpqLP</td>\n",
              "      <td>2016-10-30T21:42:42Z</td>\n",
              "      <td>2018-09-10T21:06:27Z</td>\n",
              "      <td>5921 Valencia Cir</td>\n",
              "      <td>Hotels,Hotels and motels,Hotel and motel reser...</td>\n",
              "      <td>Accommodation &amp; Food Services</td>\n",
              "      <td>Rancho Santa Fe</td>\n",
              "      <td>US</td>\n",
              "      <td>us/ca/ranchosantafe/5921valenciacir/359754519</td>\n",
              "      <td>32.990959</td>\n",
              "      <td>-117.186136</td>\n",
              "      <td>Rancho Valencia Resort Spa</td>\n",
              "      <td>92067</td>\n",
              "      <td>CA</td>\n",
              "      <td>2013-11-14T00:00:00Z</td>\n",
              "      <td>2016-08-03T00:00:00Z,2016-07-26T00:00:00Z,2016...</td>\n",
              "      <td>5.0</td>\n",
              "      <td>https://www.hotels.com/hotel/125419/reviews%20/</td>\n",
              "      <td>Our experience at Rancho Valencia was absolute...</td>\n",
              "      <td>Best romantic vacation ever!!!!</td>\n",
              "      <td>NaN</td>\n",
              "      <td>NaN</td>\n",
              "      <td>Paula</td>\n",
              "      <td>http://www.hotels.com/ho125419/%25252525253Flo...</td>\n",
              "      <td>http://www.ranchovalencia.com</td>\n",
              "    </tr>\n",
              "    <tr>\n",
              "      <th>1</th>\n",
              "      <td>AVwc252WIN2L1WUfpqLP</td>\n",
              "      <td>2016-10-30T21:42:42Z</td>\n",
              "      <td>2018-09-10T21:06:27Z</td>\n",
              "      <td>5921 Valencia Cir</td>\n",
              "      <td>Hotels,Hotels and motels,Hotel and motel reser...</td>\n",
              "      <td>Accommodation &amp; Food Services</td>\n",
              "      <td>Rancho Santa Fe</td>\n",
              "      <td>US</td>\n",
              "      <td>us/ca/ranchosantafe/5921valenciacir/359754519</td>\n",
              "      <td>32.990959</td>\n",
              "      <td>-117.186136</td>\n",
              "      <td>Rancho Valencia Resort Spa</td>\n",
              "      <td>92067</td>\n",
              "      <td>CA</td>\n",
              "      <td>2014-07-06T00:00:00Z</td>\n",
              "      <td>2016-08-02T00:00:00Z,2016-08-26T00:00:00Z,2016...</td>\n",
              "      <td>5.0</td>\n",
              "      <td>https://www.hotels.com/hotel/125419/reviews%20/</td>\n",
              "      <td>Amazing place. Everyone was extremely warm and...</td>\n",
              "      <td>Sweet sweet serenity</td>\n",
              "      <td>NaN</td>\n",
              "      <td>NaN</td>\n",
              "      <td>D</td>\n",
              "      <td>http://www.hotels.com/ho125419/%25252525253Flo...</td>\n",
              "      <td>http://www.ranchovalencia.com</td>\n",
              "    </tr>\n",
              "    <tr>\n",
              "      <th>2</th>\n",
              "      <td>AVwc252WIN2L1WUfpqLP</td>\n",
              "      <td>2016-10-30T21:42:42Z</td>\n",
              "      <td>2018-09-10T21:06:27Z</td>\n",
              "      <td>5921 Valencia Cir</td>\n",
              "      <td>Hotels,Hotels and motels,Hotel and motel reser...</td>\n",
              "      <td>Accommodation &amp; Food Services</td>\n",
              "      <td>Rancho Santa Fe</td>\n",
              "      <td>US</td>\n",
              "      <td>us/ca/ranchosantafe/5921valenciacir/359754519</td>\n",
              "      <td>32.990959</td>\n",
              "      <td>-117.186136</td>\n",
              "      <td>Rancho Valencia Resort Spa</td>\n",
              "      <td>92067</td>\n",
              "      <td>CA</td>\n",
              "      <td>2015-01-02T00:00:00Z</td>\n",
              "      <td>2016-11-15T00:00:00Z,2016-08-23T00:00:00Z,2016...</td>\n",
              "      <td>5.0</td>\n",
              "      <td>https://www.hotels.com/hotel/125419/reviews%20/</td>\n",
              "      <td>We booked a 3 night stay at Rancho Valencia to...</td>\n",
              "      <td>Amazing Property and Experience</td>\n",
              "      <td>NaN</td>\n",
              "      <td>NaN</td>\n",
              "      <td>Ron</td>\n",
              "      <td>http://www.hotels.com/ho125419/%25252525253Flo...</td>\n",
              "      <td>http://www.ranchovalencia.com</td>\n",
              "    </tr>\n",
              "    <tr>\n",
              "      <th>3</th>\n",
              "      <td>AVwdOclqIN2L1WUfti38</td>\n",
              "      <td>2015-11-28T19:19:35Z</td>\n",
              "      <td>2018-09-10T21:06:16Z</td>\n",
              "      <td>7520 Teague Rd</td>\n",
              "      <td>Hotels,Hotels and motels,Travel agencies and b...</td>\n",
              "      <td>Accommodation &amp; Food Services</td>\n",
              "      <td>Hanover</td>\n",
              "      <td>US</td>\n",
              "      <td>us/md/hanover/7520teaguerd/-2043779672</td>\n",
              "      <td>39.155929</td>\n",
              "      <td>-76.716341</td>\n",
              "      <td>Aloft Arundel Mills</td>\n",
              "      <td>21076</td>\n",
              "      <td>MD</td>\n",
              "      <td>2016-05-15T00:00:00Z</td>\n",
              "      <td>2016-05-21T00:00:00Z,2016-07-31T00:00:00Z</td>\n",
              "      <td>2.0</td>\n",
              "      <td>https://www.tripadvisor.com/Hotel_Review-g4118...</td>\n",
              "      <td>Currently in bed writing this for the past hr ...</td>\n",
              "      <td>Never again...beware, if you want sleep.</td>\n",
              "      <td>Richmond</td>\n",
              "      <td>VA</td>\n",
              "      <td>jaeem2016</td>\n",
              "      <td>http://www.yellowbook.com/profile/aloft-arunde...</td>\n",
              "      <td>http://www.starwoodhotels.com/alofthotels/prop...</td>\n",
              "    </tr>\n",
              "    <tr>\n",
              "      <th>4</th>\n",
              "      <td>AVwdOclqIN2L1WUfti38</td>\n",
              "      <td>2015-11-28T19:19:35Z</td>\n",
              "      <td>2018-09-10T21:06:16Z</td>\n",
              "      <td>7520 Teague Rd</td>\n",
              "      <td>Hotels,Hotels and motels,Travel agencies and b...</td>\n",
              "      <td>Accommodation &amp; Food Services</td>\n",
              "      <td>Hanover</td>\n",
              "      <td>US</td>\n",
              "      <td>us/md/hanover/7520teaguerd/-2043779672</td>\n",
              "      <td>39.155929</td>\n",
              "      <td>-76.716341</td>\n",
              "      <td>Aloft Arundel Mills</td>\n",
              "      <td>21076</td>\n",
              "      <td>MD</td>\n",
              "      <td>2016-07-09T00:00:00Z</td>\n",
              "      <td>2016-07-31T00:00:00Z</td>\n",
              "      <td>5.0</td>\n",
              "      <td>https://www.tripadvisor.com/Hotel_Review-g4118...</td>\n",
              "      <td>I live in Md and the Aloft is my Home away fro...</td>\n",
              "      <td>ALWAYS GREAT STAY...</td>\n",
              "      <td>Laurel</td>\n",
              "      <td>MD</td>\n",
              "      <td>MamaNiaOne</td>\n",
              "      <td>http://www.yellowbook.com/profile/aloft-arunde...</td>\n",
              "      <td>http://www.starwoodhotels.com/alofthotels/prop...</td>\n",
              "    </tr>\n",
              "  </tbody>\n",
              "</table>\n",
              "</div>"
            ],
            "text/plain": [
              "                     id  ...                                           websites\n",
              "0  AVwc252WIN2L1WUfpqLP  ...                      http://www.ranchovalencia.com\n",
              "1  AVwc252WIN2L1WUfpqLP  ...                      http://www.ranchovalencia.com\n",
              "2  AVwc252WIN2L1WUfpqLP  ...                      http://www.ranchovalencia.com\n",
              "3  AVwdOclqIN2L1WUfti38  ...  http://www.starwoodhotels.com/alofthotels/prop...\n",
              "4  AVwdOclqIN2L1WUfti38  ...  http://www.starwoodhotels.com/alofthotels/prop...\n",
              "\n",
              "[5 rows x 25 columns]"
            ]
          },
          "metadata": {
            "tags": []
          },
          "execution_count": 17
        }
      ]
    },
    {
      "cell_type": "markdown",
      "metadata": {
        "id": "EEbF37tOMfjO",
        "colab_type": "text"
      },
      "source": [
        "### Data Preparation"
      ]
    },
    {
      "cell_type": "code",
      "metadata": {
        "id": "gbjY0yBFIel5",
        "colab_type": "code",
        "outputId": "44ee1602-c258-4b29-c7bb-8b68fb8a0cc0",
        "colab": {
          "base_uri": "https://localhost:8080/",
          "height": 51
        }
      },
      "source": [
        "import nltk\n",
        "nltk.download('stopwords')\n",
        "en_stop = set(nltk.corpus.stopwords.words('english'))\n",
        "\n",
        "def prepare_text_for_lda(text):\n",
        "    tokens = str(text).split()\n",
        "    tokens = [token for token in tokens if len(token) > 4 if token not in en_stop]\n",
        "    return tokens"
      ],
      "execution_count": 0,
      "outputs": [
        {
          "output_type": "stream",
          "text": [
            "[nltk_data] Downloading package stopwords to /root/nltk_data...\n",
            "[nltk_data]   Unzipping corpora/stopwords.zip.\n"
          ],
          "name": "stdout"
        }
      ]
    },
    {
      "cell_type": "code",
      "metadata": {
        "id": "P_7j0t9ZI9G2",
        "colab_type": "code",
        "colab": {}
      },
      "source": [
        "text_data = []\n",
        "for line in df[\"reviews.text\"].values:\n",
        "    tokens = prepare_text_for_lda(line)\n",
        "    text_data.append(tokens)"
      ],
      "execution_count": 0,
      "outputs": []
    },
    {
      "cell_type": "markdown",
      "metadata": {
        "id": "PVKuJM6qNCgn",
        "colab_type": "text"
      },
      "source": [
        "### LDA Model"
      ]
    },
    {
      "cell_type": "code",
      "metadata": {
        "id": "ItLKp6C0KjSo",
        "colab_type": "code",
        "colab": {}
      },
      "source": [
        "from gensim import corpora\n",
        "dictionary = corpora.Dictionary(text_data)\n",
        "corpus = [dictionary.doc2bow(text) for text in text_data]"
      ],
      "execution_count": 0,
      "outputs": []
    },
    {
      "cell_type": "code",
      "metadata": {
        "id": "0A98iBqoKrsU",
        "colab_type": "code",
        "colab": {}
      },
      "source": [
        "import gensim\n",
        "NUM_TOPICS = 3\n",
        "ldamodel = gensim.models.ldamodel.LdaModel(corpus, num_topics = NUM_TOPICS, id2word=dictionary, passes=10)"
      ],
      "execution_count": 0,
      "outputs": []
    },
    {
      "cell_type": "code",
      "metadata": {
        "id": "0k_6K9PIKyrX",
        "colab_type": "code",
        "outputId": "84d04bda-0325-42be-c8fd-dcf070acfb7a",
        "colab": {
          "base_uri": "https://localhost:8080/",
          "height": 68
        }
      },
      "source": [
        "topics = ldamodel.print_topics(num_words=8)\n",
        "for topic in topics:\n",
        "    print(topic)"
      ],
      "execution_count": 0,
      "outputs": [
        {
          "output_type": "stream",
          "text": [
            "(0, '0.007*\"hotel\" + 0.005*\"service\" + 0.004*\"experience\" + 0.004*\"Thank\" + 0.003*\"staff\" + 0.003*\"staying\" + 0.003*\"visit\" + 0.003*\"taking\"')\n",
            "(1, '0.023*\"hotel\" + 0.017*\"staff\" + 0.014*\"great\" + 0.013*\"breakfast\" + 0.013*\"clean\" + 0.010*\"friendly\" + 0.008*\"location\" + 0.008*\"stayed\"')\n",
            "(2, '0.016*\"hotel\" + 0.009*\"would\" + 0.007*\"front\" + 0.007*\"night\" + 0.006*\"room.\" + 0.006*\"could\" + 0.006*\"rooms\" + 0.005*\"stayed\"')\n"
          ],
          "name": "stdout"
        }
      ]
    },
    {
      "cell_type": "markdown",
      "metadata": {
        "id": "pf8Om3cfN6vu",
        "colab_type": "text"
      },
      "source": [
        "https://towardsdatascience.com/topic-modelling-in-python-with-nltk-and-gensim-4ef03213cd21"
      ]
    },
    {
      "cell_type": "code",
      "metadata": {
        "id": "IfPwtBO6OAve",
        "colab_type": "code",
        "colab": {}
      },
      "source": [
        ""
      ],
      "execution_count": 0,
      "outputs": []
    }
  ]
}